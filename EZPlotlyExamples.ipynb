{
 "cells": [
  {
   "cell_type": "code",
   "execution_count": null,
   "id": "9f0c154e",
   "metadata": {
    "execution": {
     "iopub.execute_input": "2021-07-12T03:08:35.321249Z",
     "iopub.status.busy": "2021-07-12T03:08:35.319109Z",
     "iopub.status.idle": "2021-07-12T03:08:36.843810Z",
     "shell.execute_reply": "2021-07-12T03:08:36.844378Z"
    }
   },
   "outputs": [],
   "source": [
    "import os\n",
    "import EZPlotly as EP\n",
    "import EZPlotly_bio as EPB\n",
    "\n",
    "# make output directory\n",
    "if not os.path.exists('test_figs'):\n",
    "    os.mkdir('test_figs')"
   ]
  },
  {
   "cell_type": "code",
   "execution_count": null,
   "id": "28ef65d5",
   "metadata": {
    "execution": {
     "iopub.execute_input": "2021-07-12T03:08:36.850107Z",
     "iopub.status.busy": "2021-07-12T03:08:36.849233Z",
     "iopub.status.idle": "2021-07-12T03:08:38.651627Z",
     "shell.execute_reply": "2021-07-12T03:08:38.652179Z"
    }
   },
   "outputs": [],
   "source": [
    "# simple histogram plot\n",
    "data = [0,1,2,2,3,3,3,4,4,5]\n",
    "h = EP.hist(data=data, min_bin=0, max_bin=6, bin_size=1, name='raw hist', color='green', title='basic histogram',\n",
    "           xlabel='value')\n",
    "EP.plot_all([h], outfile=os.path.join('test_figs','basic_hist.png'))"
   ]
  },
  {
   "cell_type": "code",
   "execution_count": null,
   "id": "b05d9a2a",
   "metadata": {
    "execution": {
     "iopub.execute_input": "2021-07-12T03:08:38.708304Z",
     "iopub.status.busy": "2021-07-12T03:08:38.696890Z",
     "iopub.status.idle": "2021-07-12T03:08:38.778481Z",
     "shell.execute_reply": "2021-07-12T03:08:38.779124Z"
    }
   },
   "outputs": [],
   "source": [
    "# simple histogram side by side comparisons\n",
    "data1 = [0,1,2,2,3,3,3,4,4,5]\n",
    "data2 = [0,1,2,2,3,3,4,5]\n",
    "h = [None]*2\n",
    "h[0] = EP.hist(data=data1, min_bin=0, max_bin=6, bin_size=1, color='green', title='histogram comparison',\n",
    "           xlabel='value', name='series1')\n",
    "h[1] = EP.hist(data=data2, min_bin=0, max_bin=6, bin_size=1, color='red',\n",
    "           xlabel='value', name='series2')\n",
    "EP.plot_all(h, panels=[1,1], outfile=os.path.join('test_figs','hist_cmp.png'),\n",
    "           showlegend=True)"
   ]
  },
  {
   "cell_type": "code",
   "execution_count": null,
   "id": "dee3ebbd",
   "metadata": {
    "execution": {
     "iopub.execute_input": "2021-07-12T03:08:38.824001Z",
     "iopub.status.busy": "2021-07-12T03:08:38.818998Z",
     "iopub.status.idle": "2021-07-12T03:08:38.867802Z",
     "shell.execute_reply": "2021-07-12T03:08:38.868369Z"
    }
   },
   "outputs": [],
   "source": [
    "# simple bar plot\n",
    "bar_data = [4,3,2]\n",
    "bar_labels = ['bar1', 'bar2', 'bar3']\n",
    "bar_errors = [1,0.5,1]\n",
    "h = EP.bar(y=bar_data, x=bar_labels, error_y=bar_errors, color='pink',\n",
    "          xlabel='bar',ylabel='value', title='tl')\n",
    "EP.plot_all([h], outfile=os.path.join('test_figs', 'simple_bar.png'))"
   ]
  },
  {
   "cell_type": "code",
   "execution_count": null,
   "id": "ad0779f4",
   "metadata": {
    "execution": {
     "iopub.execute_input": "2021-07-12T03:08:38.921373Z",
     "iopub.status.busy": "2021-07-12T03:08:38.909327Z",
     "iopub.status.idle": "2021-07-12T03:08:38.980393Z",
     "shell.execute_reply": "2021-07-12T03:08:38.980969Z"
    }
   },
   "outputs": [],
   "source": [
    "# series bar plot\n",
    "h = [None]*3\n",
    "group_labels = ['g1', 'g2', 'g3']\n",
    "bar1_data = [4,3,2]\n",
    "bar1_errors = [1,0.5,1]\n",
    "h[0] = EP.bar(y=bar1_data, x=group_labels, error_y=bar1_errors, color='pink',\n",
    "          xlabel='bar',ylabel='value', title='tl', name='series1')\n",
    "bar2_data = [5,3,5]\n",
    "bar2_errors = [1,0.5,1]\n",
    "h[1] = EP.bar(y=bar2_data, x=group_labels, error_y=bar2_errors, color='green',\n",
    "          xlabel='bar',ylabel='value', title='tl', name='series2')\n",
    "bar3_data = [6,1,2]\n",
    "bar3_errors = [1,0.5,1]\n",
    "h[2] = EP.bar(y=bar3_data, x=group_labels, error_y=bar3_errors, color='blue',\n",
    "          xlabel='bar',ylabel='value', title='tl', name='series3')\n",
    "EP.plot_all(h, panels=[1,1,1], outfile=os.path.join('test_figs', 'bar_series.png'),\n",
    "           showlegend=True)"
   ]
  },
  {
   "cell_type": "code",
   "execution_count": null,
   "id": "d43a8dec",
   "metadata": {
    "execution": {
     "iopub.execute_input": "2021-07-12T03:08:38.986969Z",
     "iopub.status.busy": "2021-07-12T03:08:38.986185Z",
     "iopub.status.idle": "2021-07-12T03:08:39.518132Z",
     "shell.execute_reply": "2021-07-12T03:08:39.518732Z"
    }
   },
   "outputs": [],
   "source": [
    "# simple scatterplot\n",
    "x = [1,2,3,4,5]\n",
    "y = [1,2,3,4,5]\n",
    "h = EP.scattergl(x=x, y=y, xlabel='xl', ylabel='yl', title='tl')\n",
    "EP.plot_all([h], outfile=os.path.join('test_figs', 'basic_scatter.png'))"
   ]
  },
  {
   "cell_type": "code",
   "execution_count": null,
   "id": "86ca4b67",
   "metadata": {
    "execution": {
     "iopub.execute_input": "2021-07-12T03:08:39.585698Z",
     "iopub.status.busy": "2021-07-12T03:08:39.558457Z",
     "iopub.status.idle": "2021-07-12T03:08:39.960623Z",
     "shell.execute_reply": "2021-07-12T03:08:39.961495Z"
    }
   },
   "outputs": [],
   "source": [
    "# series scatterplot\n",
    "x1 = [1,2,3,4,5]\n",
    "y1 = [1,2,3,4,5]\n",
    "e1 = [1,1,1,1,0]\n",
    "x2 = [2,3,4,5]\n",
    "y2 = [1,1,1,1]\n",
    "e2 = [0.5,0.5,0.5,0.5]\n",
    "h = [None]*2\n",
    "h[0] = EP.scattergl(x=x1, y=y1, error_y=e1, xlabel='x1', ylabel='y1', title='tl1', name='series1',\n",
    "                   xlim=[0,6], ylim=[0,6])\n",
    "h[1] = EP.scattergl(x=x2, y=y2, error_y=e2, xlabel='x2', ylabel='y2', title='tl2', name='series2',\n",
    "                   xlim=[0,6], ylim=[0,6])\n",
    "EP.plot_all(h, numcols=2, outfile=os.path.join('test_figs', 'series_scatter.png'))"
   ]
  },
  {
   "cell_type": "code",
   "execution_count": null,
   "id": "1650d415",
   "metadata": {
    "execution": {
     "iopub.execute_input": "2021-07-12T03:08:40.009485Z",
     "iopub.status.busy": "2021-07-12T03:08:40.003071Z",
     "iopub.status.idle": "2021-07-12T03:08:40.418734Z",
     "shell.execute_reply": "2021-07-12T03:08:40.419321Z"
    }
   },
   "outputs": [],
   "source": [
    "# simple line\n",
    "x1 = [1,2,3,4,5]\n",
    "y1 = [1,2,3,4,5]\n",
    "e1 = [1,1,1,1,0]\n",
    "h = EP.line(x=x1, y=y1, error_y=e1, xlabel='x', ylabel='y', title='tl')\n",
    "EP.plot_all([h], outfile=os.path.join('test_figs', 'simple_line.png'))"
   ]
  },
  {
   "cell_type": "code",
   "execution_count": null,
   "id": "4357390e",
   "metadata": {
    "execution": {
     "iopub.execute_input": "2021-07-12T03:08:40.471010Z",
     "iopub.status.busy": "2021-07-12T03:08:40.461744Z",
     "iopub.status.idle": "2021-07-12T03:08:40.881461Z",
     "shell.execute_reply": "2021-07-12T03:08:40.882030Z"
    }
   },
   "outputs": [],
   "source": [
    "# simple line lower / upper confidence limits\n",
    "x1 = [1,2,3,4,5]\n",
    "y1 = [1,2,3,4,5]\n",
    "lcl = [2,3,4,5,5]\n",
    "ucl = [3,3,2,2,2]\n",
    "h = EP.line(x=x1, y=y1, lcl=lcl, ucl=ucl, xlabel='x', ylabel='y', title='tl')\n",
    "EP.plot_all([h], outfile=os.path.join('test_figs', 'simple_line_lcl_ucl.png'))"
   ]
  },
  {
   "cell_type": "code",
   "execution_count": null,
   "id": "5ca2a147",
   "metadata": {
    "execution": {
     "iopub.execute_input": "2021-07-12T03:08:40.938397Z",
     "iopub.status.busy": "2021-07-12T03:08:40.920536Z",
     "iopub.status.idle": "2021-07-12T03:08:41.422223Z",
     "shell.execute_reply": "2021-07-12T03:08:41.423010Z"
    }
   },
   "outputs": [],
   "source": [
    "# series line\n",
    "x1 = [1,2,3,4,5]\n",
    "y1 = [1,2,3,4,5]\n",
    "e1 = [1,1,1,1,0]\n",
    "x2 = [2,3,4,5]\n",
    "y2 = [1,1,1,1]\n",
    "e2 = [0.5,0.5,0.5,0.5]\n",
    "h = [None]*2\n",
    "h[0] = EP.line(x=x1, y=y1, error_y=e1, xlabel='x1', ylabel='y1', title='tl1', name='series1',\n",
    "                   xlim=[0,6], ylim=[0,6])\n",
    "h[1] = EP.line(x=x2, y=y2, error_y=e2, xlabel='x2', ylabel='y2', title='tl2', name='series2',\n",
    "                   xlim=[0,6], ylim=[0,6])\n",
    "EP.plot_all(h, panels=[1,1], outfile=os.path.join('test_figs', 'series_line.png'),\n",
    "           showlegend=True)"
   ]
  },
  {
   "cell_type": "code",
   "execution_count": null,
   "id": "fc95ec73",
   "metadata": {
    "execution": {
     "iopub.execute_input": "2021-07-12T03:08:41.432941Z",
     "iopub.status.busy": "2021-07-12T03:08:41.431331Z",
     "iopub.status.idle": "2021-07-12T03:08:41.551416Z",
     "shell.execute_reply": "2021-07-12T03:08:41.550627Z"
    }
   },
   "outputs": [],
   "source": [
    "# sample violin series\n",
    "d1 = [1,2,3,4,5,5,5,5,5]\n",
    "d2 = [2,2,2,2,2,2,2,3,3,3,3]\n",
    "h = [None]*2\n",
    "h[0] = EP.violin(y=d1, name='violin1',xlabel='musical violins', ylabel='val', title='example violins')\n",
    "h[1] = EP.violin(y=d2, name='violin2')\n",
    "EP.plot_all(h, panels=[1,1], showlegend=True, outfile=os.path.join('test_figs', 'violins.png'))"
   ]
  },
  {
   "cell_type": "code",
   "execution_count": null,
   "id": "94a83b18",
   "metadata": {
    "execution": {
     "iopub.execute_input": "2021-07-12T03:08:41.601994Z",
     "iopub.status.busy": "2021-07-12T03:08:41.591079Z",
     "iopub.status.idle": "2021-07-12T03:08:41.664437Z",
     "shell.execute_reply": "2021-07-12T03:08:41.665137Z"
    }
   },
   "outputs": [],
   "source": [
    "# heatmap example\n",
    "z = [[1,2],[3,4]]\n",
    "h = EP.heatmap(z=z, xlabel='xl', ylabel='yl',title='heatmap')\n",
    "EP.plot_all([h], outfile=os.path.join('test_figs', 'example_heatmap.png'), width=500)"
   ]
  },
  {
   "cell_type": "code",
   "execution_count": null,
   "id": "6742e41d",
   "metadata": {
    "execution": {
     "iopub.execute_input": "2021-07-12T03:08:41.723330Z",
     "iopub.status.busy": "2021-07-12T03:08:41.715459Z",
     "iopub.status.idle": "2021-07-12T03:08:42.172562Z",
     "shell.execute_reply": "2021-07-12T03:08:42.173596Z"
    }
   },
   "outputs": [],
   "source": [
    "# scatter heat example\n",
    "x = [1,1,1,1,2,2,2,3,3,3,4,4,4,5,5]\n",
    "y = [1,1,1,2,2,3,3,3,4,4,4,5,5,5,5]\n",
    "bins = [0,1,2,3,4,5,6,7]\n",
    "EP.scatterheat(x=x, y=y, xbins=bins, ybins=bins, xlabel='xl', ylabel='yl',\n",
    "               title='scatterheat', cscale=[0,3], \n",
    "              outfile=os.path.join('test_figs', 'sample_scatterheat.png'))"
   ]
  },
  {
   "cell_type": "code",
   "execution_count": null,
   "id": "c0680319",
   "metadata": {},
   "outputs": [],
   "source": []
  }
 ],
 "metadata": {
  "kernelspec": {
   "display_name": "Python 3",
   "language": "python",
   "name": "python3"
  },
  "language_info": {
   "codemirror_mode": {
    "name": "ipython",
    "version": 3
   },
   "file_extension": ".py",
   "mimetype": "text/x-python",
   "name": "python",
   "nbconvert_exporter": "python",
   "pygments_lexer": "ipython3",
   "version": "3.6.13"
  }
 },
 "nbformat": 4,
 "nbformat_minor": 5
}
