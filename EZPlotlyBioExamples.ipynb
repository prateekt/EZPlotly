{
 "cells": [
  {
   "cell_type": "code",
   "execution_count": null,
   "metadata": {},
   "outputs": [],
   "source": [
    "import os\n",
    "import pandas as pd\n",
    "import numpy as np\n",
    "import ezplotly_bio as epb\n",
    "\n",
    "%load_ext autoreload\n",
    "%autoreload 2\n",
    "\n",
    "# make output directory\n",
    "if not os.path.exists('test_figs'):\n",
    "    os.mkdir('test_figs')"
   ]
  },
  {
   "cell_type": "code",
   "execution_count": null,
   "metadata": {},
   "outputs": [],
   "source": [
    "## Manhattan plot demo\n",
    "\n",
    "# simulate data and put into data frame\n",
    "data = dict()\n",
    "data['chr'] = list()\n",
    "data['pos'] = list()\n",
    "data['pval'] = list()\n",
    "for i in range(1,25):\n",
    "    chr_str = 'chr'+str(i)\n",
    "    if i == 23:\n",
    "        chr_str = 'chrX'\n",
    "    if i == 24:\n",
    "        chr_str = 'chrY'\n",
    "    chrs = [chr_str for _ in range(100)]\n",
    "    pos = [j for j in range(100)]\n",
    "    pval = np.random.sample((100,)).tolist()\n",
    "    data['chr'].extend(chrs)\n",
    "    data['pos'].extend(pos)\n",
    "    data['pval'].extend(pval)\n",
    "df = pd.DataFrame(data)\n",
    "\n",
    "#make plot\n",
    "epb.manhattan_plot(df=df, title='Example Manhattan Plot', outfile=os.path.join('test_figs','manhattan.png'), height=1000)"
   ]
  },
  {
   "cell_type": "code",
   "execution_count": null,
   "metadata": {},
   "outputs": [],
   "source": [
    "## Chr_Distr Plots: \n",
    "#1. Histogram data per chromosome\n",
    "#2. Test that chromosome values follow a uniform distribution\n",
    "\n",
    "# simulate data and put into data frame\n",
    "data = dict()\n",
    "data['chr'] = list()\n",
    "data['data'] = list()\n",
    "for i in range(1,25):\n",
    "    chr_str = 'chr'+str(i)\n",
    "    if i == 23:\n",
    "        chr_str = 'chrX'\n",
    "    if i == 24:\n",
    "        chr_str = 'chrY'\n",
    "    chrs = [chr_str for _ in range(10000)]\n",
    "    d = np.random.sample((10000,)).tolist()\n",
    "    data['chr'].extend(chrs)\n",
    "    data['data'].extend(d)\n",
    "df = pd.DataFrame(data)\n",
    "\n",
    "# make chr_hist plot\n",
    "epb.chr_hist(df=df, data_col_name='data', min_bin=0.0, max_bin=1.0, bin_size=0.2, title='Histogram per Chromosome', xlabel='data',\n",
    "            x_dtick=0.2)\n",
    "\n",
    "# make chr_distr plot\n",
    "epb.chr_distr(data=df['data'], chr_df=df['chr'], distr_name='uniform',\n",
    "             title='Test that data is uniform', outfile=os.path.join('test_figs', 'chr_distr.png'))"
   ]
  },
  {
   "cell_type": "code",
   "execution_count": null,
   "metadata": {},
   "outputs": [],
   "source": [
    "## Make Chromosome QQ-Plot\n",
    "\n",
    "epb.chr_qq(df=df, data_col_name='data', distr='uniform', title='QQ Plots: Test that data is uniform',\n",
    "          outfile=os.path.join('test_figs', 'chr_qq.png'))"
   ]
  },
  {
   "cell_type": "code",
   "execution_count": null,
   "metadata": {},
   "outputs": [],
   "source": [
    "## ROC curve example\n",
    "\n",
    "# data\n",
    "preds = np.array([[0.9, 0.9, 0.9, 0.9, 0.1, 0.1, 0.1, 0.2, 0.3, 0.4], [0.1, 0.1, 0.1, 0.1, 0.1, 0.9, 0.9, 0.2, 0.9, 0.9]])\n",
    "gt = np.array([1, 1, 1, 1, 1, 0, 0, 0, 0, 0])\n",
    "\n",
    "# make roc curve\n",
    "epb.roc(preds=preds, gt=gt, names=['A', 'B'], title='ROC Curve Example', outfile=os.path.join('test_figs','roc.png'))"
   ]
  },
  {
   "cell_type": "code",
   "execution_count": null,
   "metadata": {},
   "outputs": [],
   "source": [
    "## CDF Examples\n",
    "\n",
    "data = np.array([0.1, 0.2, 0.3, 0.4, 0.9, 0.9, 0.9, 0.9])\n",
    "\n",
    "# empirical cdf\n",
    "epb.ecdf(data=data, min_bin=0.0, max_bin=1.0, bin_size=0.1, \n",
    "         title='Empirical CDF', xlabel='data', outfile=os.path.join('test_figs','cdf.png'))\n",
    "\n",
    "# reverse cdf\n",
    "epb.rcdf(data=data, min_bin=0.0, max_bin=1.0, bin_size=0.1, \n",
    "         title='Reverse CDF', xlabel='data', outfile=os.path.join('test_figs','rcdf.png'))"
   ]
  },
  {
   "cell_type": "code",
   "execution_count": null,
   "metadata": {},
   "outputs": [],
   "source": [
    "## Corr Plot\n",
    "\n",
    "x = np.arange(0.0, 50.0, 1.0)\n",
    "y = np.arange(0.0, 50.0, 1.0)*0.2\n",
    "\n",
    "epb.corr_plot(x=x, y=y, xlabel='x', ylabel='y', \n",
    "              title='Correlation Plot Example', outfile=os.path.join('test_figs','corr_plot.png'))"
   ]
  },
  {
   "cell_type": "code",
   "execution_count": null,
   "metadata": {},
   "outputs": [],
   "source": [
    "## Nonparametric Confidence Interval Examples\n",
    "\n",
    "# data\n",
    "x = np.array([1, 2, 3, 4, 5])\n",
    "y = np.array([[1,1,1,1,1],[1,2,2,2,3],[3,3,1,2,1],[1,2,3,4,5],[1,1,1,1,1]]).T\n",
    "\n",
    "# 95% confidence interval line plot\n",
    "epb.nonparametric_ci(x=x, y_data=y, color='blue', xlabel='x', ylabel='y',\n",
    "                    title='95% Confidence Interval Example', outfile=os.path.join('test_figs','conf95.png'))\n",
    "\n",
    "# 75% confidence interval line plot\n",
    "epb.nonparametric_ci(x=x, y_data=y, color='blue', conf=0.75, xlabel='x', ylabel='y',\n",
    "                    title='75% Confidence Interval Example', outfile=os.path.join('test_figs', 'conf75.png'))\n",
    "\n",
    "# 65% confidence interval scatter plot\n",
    "epb.nonparametric_ci(x=x, y_data=y, color='blue', conf=0.75, xlabel='x', ylabel='y', ci_plot_type='point',\n",
    "                    title='65% Confidence Interval Example', outfile=os.path.join('test_figs', 'conf65.png'))\n"
   ]
  }
 ],
 "metadata": {
  "kernelspec": {
   "display_name": "Python 3",
   "language": "python",
   "name": "python3"
  },
  "language_info": {
   "codemirror_mode": {
    "name": "ipython",
    "version": 3
   },
   "file_extension": ".py",
   "mimetype": "text/x-python",
   "name": "python",
   "nbconvert_exporter": "python",
   "pygments_lexer": "ipython3",
   "version": "3.7.6"
  }
 },
 "nbformat": 4,
 "nbformat_minor": 4
}
